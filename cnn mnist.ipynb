{
 "cells": [
  {
   "cell_type": "code",
   "execution_count": 1,
   "metadata": {},
   "outputs": [],
   "source": [
    "import tensorflow as tf\n",
    "from tensorflow.examples.tutorials.mnist import input_data\n",
    "import os\n",
    "os.environ[\"CUDA_DEVICE_ORDER\"] = \"PCI_BUS_ID\"\n",
    "os.environ['CUDA_VISIBLE_DEVICES'] = \"-1\"\n",
    "\n",
    "#os.environ[\"CUDA_VISIBLE_DEVICES\"] = \"0\"\n",
    "#config = tf.ConfigProto(allow_soft_placement = True)\n",
    "#gpu_options = tf.GPUOptions(per_process_gpu_memory_fraction = 0.33)\n",
    "#config.gpu_options.allow_growth = True"
   ]
  },
  {
   "cell_type": "code",
   "execution_count": 2,
   "metadata": {},
   "outputs": [
    {
     "name": "stdout",
     "output_type": "stream",
     "text": [
      "Extracting MNIST_DATA/train-images-idx3-ubyte.gz\n",
      "Extracting MNIST_DATA/train-labels-idx1-ubyte.gz\n",
      "Extracting MNIST_DATA/t10k-images-idx3-ubyte.gz\n",
      "Extracting MNIST_DATA/t10k-labels-idx1-ubyte.gz\n"
     ]
    }
   ],
   "source": [
    "mnist = input_data.read_data_sets('MNIST_DATA',one_hot=True)"
   ]
  },
  {
   "cell_type": "code",
   "execution_count": 3,
   "metadata": {},
   "outputs": [],
   "source": [
    "batch_size = 100\n",
    "n_batch = mnist.train.num_examples // batch_size"
   ]
  },
  {
   "cell_type": "code",
   "execution_count": 4,
   "metadata": {},
   "outputs": [],
   "source": [
    "#初始化权值\n",
    "def weight_varible(shape):\n",
    "    initial = tf.truncated_normal(shape=shape,stddev=0.1)\n",
    "    return tf.Variable(initial)\n",
    "\n",
    "#初始化偏置\n",
    "def bias_variable(shape):\n",
    "    initial = tf.constant(0.1,shape=shape)\n",
    "    return tf.Variable(initial)\n",
    "\n",
    "#卷积层\n",
    "def conv2d(x,W):\n",
    "    return tf.nn.conv2d(x,W,strides=[1,1,1,1],padding='SAME')\n",
    "\n",
    "#池化层\n",
    "def max_pool_2x2(x):\n",
    "    return tf.nn.max_pool(x,ksize=[1,2,2,1],strides=[1,2,2,1],padding='SAME')"
   ]
  },
  {
   "cell_type": "code",
   "execution_count": 5,
   "metadata": {},
   "outputs": [],
   "source": [
    "x = tf.placeholder(tf.float32,[None,784])\n",
    "y = tf.placeholder(tf.float32,[None,10])"
   ]
  },
  {
   "cell_type": "code",
   "execution_count": 6,
   "metadata": {},
   "outputs": [],
   "source": [
    "#改变图片的格式[batch,heighe,width,channels]\n",
    "x_image = tf.reshape(x,[-1,28,28,1])"
   ]
  },
  {
   "cell_type": "code",
   "execution_count": 7,
   "metadata": {},
   "outputs": [],
   "source": [
    "#初始化第一个卷积层的权值和偏置\n",
    "W_conv1 = weight_varible([5,5,1,32])\n",
    "b_conv1 = bias_variable([32])"
   ]
  },
  {
   "cell_type": "code",
   "execution_count": 8,
   "metadata": {},
   "outputs": [],
   "source": [
    "#卷积,池化操作\n",
    "h_conv1 = tf.nn.relu(conv2d(x_image,W_conv1) + b_conv1)\n",
    "h_pool1 = max_pool_2x2(h_conv1)"
   ]
  },
  {
   "cell_type": "code",
   "execution_count": 9,
   "metadata": {},
   "outputs": [],
   "source": [
    "#初始化第二个卷积层的权值和偏置\n",
    "W_conv2 = weight_varible([5,5,32,64])\n",
    "b_conv2 = bias_variable([64])"
   ]
  },
  {
   "cell_type": "code",
   "execution_count": 10,
   "metadata": {},
   "outputs": [],
   "source": [
    "h_conv2 = tf.nn.relu(conv2d(h_pool1,W_conv2) + b_conv2)\n",
    "h_pool2 = max_pool_2x2(h_conv2)"
   ]
  },
  {
   "cell_type": "code",
   "execution_count": 11,
   "metadata": {},
   "outputs": [
    {
     "data": {
      "text/plain": [
       "[None, 7, 7, 64]"
      ]
     },
     "execution_count": 11,
     "metadata": {},
     "output_type": "execute_result"
    }
   ],
   "source": [
    "h_pool2.get_shape().as_list()#卷积，池化后的shape"
   ]
  },
  {
   "cell_type": "code",
   "execution_count": 12,
   "metadata": {},
   "outputs": [],
   "source": [
    "#初始化一个全连接权重\n",
    "W_fc1 = weight_varible([7*7*64,500])\n",
    "b_fc1 = bias_variable([500])"
   ]
  },
  {
   "cell_type": "code",
   "execution_count": 13,
   "metadata": {},
   "outputs": [
    {
     "data": {
      "text/plain": [
       "TensorShape([Dimension(None), Dimension(3136)])"
      ]
     },
     "execution_count": 13,
     "metadata": {},
     "output_type": "execute_result"
    }
   ],
   "source": [
    "#h_pool2变成一维\n",
    "h_pool2_flat = tf.reshape(h_pool2,[-1,7*7*64])\n",
    "h_pool2_flat.get_shape()"
   ]
  },
  {
   "cell_type": "code",
   "execution_count": 14,
   "metadata": {},
   "outputs": [],
   "source": [
    "#求第一个全连接的输出\n",
    "h_fc1 = tf.nn.relu(tf.matmul(h_pool2_flat,W_fc1) + b_fc1)"
   ]
  },
  {
   "cell_type": "code",
   "execution_count": 15,
   "metadata": {},
   "outputs": [],
   "source": [
    "#dropout操作\n",
    "keep_prob = tf.placeholder(tf.float32)\n",
    "h_fc_drop = tf.nn.dropout(h_fc1,keep_prob=keep_prob)"
   ]
  },
  {
   "cell_type": "code",
   "execution_count": 16,
   "metadata": {},
   "outputs": [],
   "source": [
    "#初始化第二个全连接层\n",
    "W_fc2 = weight_varible([500,10])\n",
    "b_fc2 = bias_variable([10])"
   ]
  },
  {
   "cell_type": "code",
   "execution_count": 17,
   "metadata": {},
   "outputs": [],
   "source": [
    "#计算输出\n",
    "prediction = tf.nn.softmax(tf.matmul(h_fc_drop,W_fc2) + b_fc2)"
   ]
  },
  {
   "cell_type": "code",
   "execution_count": 18,
   "metadata": {},
   "outputs": [],
   "source": [
    "#交叉熵代价函数\n",
    "cross_entropy = tf.reduce_mean(tf.nn.softmax_cross_entropy_with_logits_v2(labels=y,logits=prediction))\n",
    "#训练\n",
    "train_step = tf.train.GradientDescentOptimizer(0.1).minimize(cross_entropy)\n",
    "#计算准确率\n",
    "acc = tf.reduce_mean(tf.cast(tf.equal(tf.argmax(prediction,1),tf.argmax(y,1)),tf.float32))\n"
   ]
  },
  {
   "cell_type": "code",
   "execution_count": 20,
   "metadata": {},
   "outputs": [
    {
     "name": "stdout",
     "output_type": "stream",
     "text": [
      "epoach0-----0 acc 0.1235\n",
      "epoach0-----100 acc 0.6974\n",
      "epoach0-----200 acc 0.825\n",
      "epoach0-----300 acc 0.9246\n",
      "epoach0-----400 acc 0.9403\n",
      "epoach0-----500 acc 0.9492\n",
      "epoach1-----0 acc 0.9485\n",
      "epoach1-----100 acc 0.9545\n",
      "epoach1-----200 acc 0.9512\n",
      "epoach1-----300 acc 0.9631\n",
      "epoach1-----400 acc 0.9604\n",
      "epoach1-----500 acc 0.9674\n",
      "epoach2-----0 acc 0.9671\n",
      "epoach2-----100 acc 0.9674\n",
      "epoach2-----200 acc 0.9682\n",
      "epoach2-----300 acc 0.9706\n",
      "epoach2-----400 acc 0.972\n",
      "epoach2-----500 acc 0.9722\n",
      "epoach3-----0 acc 0.9756\n",
      "epoach3-----100 acc 0.974\n",
      "epoach3-----200 acc 0.9759\n",
      "epoach3-----300 acc 0.9765\n",
      "epoach3-----400 acc 0.9771\n",
      "epoach3-----500 acc 0.9761\n",
      "epoach4-----0 acc 0.9756\n",
      "epoach4-----100 acc 0.9776\n",
      "epoach4-----200 acc 0.978\n",
      "epoach4-----300 acc 0.9776\n",
      "epoach4-----400 acc 0.9779\n",
      "epoach4-----500 acc 0.9787\n",
      "epoach5-----0 acc 0.9798\n",
      "epoach5-----100 acc 0.9802\n",
      "epoach5-----200 acc 0.9814\n",
      "epoach5-----300 acc 0.9805\n",
      "epoach5-----400 acc 0.9813\n",
      "epoach5-----500 acc 0.9813\n",
      "epoach6-----0 acc 0.9824\n",
      "epoach6-----100 acc 0.9819\n",
      "epoach6-----200 acc 0.9823\n",
      "epoach6-----300 acc 0.9819\n",
      "epoach6-----400 acc 0.983\n",
      "epoach6-----500 acc 0.9821\n",
      "epoach7-----0 acc 0.9831\n",
      "epoach7-----100 acc 0.9831\n",
      "epoach7-----200 acc 0.9829\n",
      "epoach7-----300 acc 0.9846\n",
      "epoach7-----400 acc 0.9846\n",
      "epoach7-----500 acc 0.9835\n",
      "epoach8-----0 acc 0.9835\n",
      "epoach8-----100 acc 0.9838\n",
      "epoach8-----200 acc 0.984\n",
      "epoach8-----300 acc 0.9837\n",
      "epoach8-----400 acc 0.984\n",
      "epoach8-----500 acc 0.9854\n",
      "epoach9-----0 acc 0.9846\n",
      "epoach9-----100 acc 0.9853\n",
      "epoach9-----200 acc 0.986\n",
      "epoach9-----300 acc 0.9861\n",
      "epoach9-----400 acc 0.985\n",
      "epoach9-----500 acc 0.9865\n",
      "epoach10-----0 acc 0.9856\n",
      "epoach10-----100 acc 0.9852\n",
      "epoach10-----200 acc 0.9863\n",
      "epoach10-----300 acc 0.9852\n",
      "epoach10-----400 acc 0.9852\n",
      "epoach10-----500 acc 0.9864\n"
     ]
    }
   ],
   "source": [
    "with tf.Session() as sess:\n",
    "    sess.run(tf.global_variables_initializer())\n",
    "    for epoach in range(11):\n",
    "        for batch in range(n_batch):\n",
    "            batch_xs,batch_ys = mnist.train.next_batch(batch_size)\n",
    "            sess.run(train_step,feed_dict = {x:batch_xs,y:batch_ys,keep_prob:0.5})\n",
    "            if batch % 100 == 0:\n",
    "\n",
    "                accuracy = sess.run(acc,feed_dict={x:mnist.test.images,y:mnist.test.labels,keep_prob:1.0})\n",
    "\n",
    "                print('epoach' +str(epoach)+'-----'+str(batch) + ' acc '+ str(accuracy))  \n"
   ]
  },
  {
   "cell_type": "code",
   "execution_count": null,
   "metadata": {},
   "outputs": [],
   "source": []
  }
 ],
 "metadata": {
  "kernelspec": {
   "display_name": "Python 3",
   "language": "python",
   "name": "python3"
  },
  "language_info": {
   "codemirror_mode": {
    "name": "ipython",
    "version": 3
   },
   "file_extension": ".py",
   "mimetype": "text/x-python",
   "name": "python",
   "nbconvert_exporter": "python",
   "pygments_lexer": "ipython3",
   "version": "3.5.2"
  }
 },
 "nbformat": 4,
 "nbformat_minor": 2
}
